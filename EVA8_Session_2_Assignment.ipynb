{
  "nbformat": 4,
  "nbformat_minor": 0,
  "metadata": {
    "colab": {
      "provenance": []
    },
    "kernelspec": {
      "name": "python3",
      "display_name": "Python 3"
    },
    "accelerator": "GPU"
  },
  "cells": [
    {
      "cell_type": "code",
      "metadata": {
        "id": "0m2JWFliFfKT"
      },
      "source": [
        "from __future__ import print_function\n",
        "import torch # A GPU-Ready Tensor Library for deep learning\n",
        "import torch.nn as nn # These are the basic building blocks for graphs\n",
        "import torch.nn.functional as F # torch lib for Convolution functions\n",
        "import torch.optim as optim  # torch.optim is a package implementing various optimization algorithms. \n",
        "from torchvision import datasets, transforms #The torchvision package consists of popular datasets, model architectures, and common image transformations for computer vision."
      ],
      "execution_count": 1,
      "outputs": []
    },
    {
      "cell_type": "code",
      "metadata": {
        "id": "h_Cx9q2QFgM7"
      },
      "source": [
        "class Net(nn.Module):  # Net class inheriting nn.Module which is Base class for all neural network modules.\n",
        "    def __init__(self):\n",
        "        super(Net, self).__init__()                        #    input shape    output shape      RF\n",
        "        self.conv1 = nn.Conv2d(1, 32, 3, padding=1)        #  28 x 28 x 1  - 28 x 28 x 32        3     # Convolution layer with i/p channels=2, 0/p channels=32, kernel size- 3 x 3. Padding =1\n",
        "        self.conv2 = nn.Conv2d(32, 64, 3, padding=1)       #  28 x 28 x 32 - 28 x 28 x 64        5 \n",
        "        self.pool1 = nn.MaxPool2d(2, 2)                    #  28 x 28 x 64 - 14 x 14 x 64        10 \n",
        "        self.conv3 = nn.Conv2d(64, 128, 3, padding=1)      #  14 x 14 x 64 - 14 x 14 x 128       12 \n",
        "        self.conv4 = nn.Conv2d(128, 256, 3, padding=1)     #  14 x 14 x 128 - 14 x 14 x 256      14\n",
        "        self.pool2 = nn.MaxPool2d(2, 2)                    #  14 x 14 x 256 - 7 x 7 x 256        28\n",
        "        self.conv5 = nn.Conv2d(256, 512, 3)                #  7 x 7 x 256 -   5 x 5 x 512        30\n",
        "        self.conv6 = nn.Conv2d(512, 1024, 3)               #  5 x 5 x 512 -   3 x 3 x 512        32\n",
        "        self.conv7 = nn.Conv2d(1024, 10, 3)                #  3 x 3 x 512 -   1 x 1 x 512        34\n",
        "\n",
        "    def forward(self, x):\n",
        "        x = self.pool1(F.relu(self.conv2(F.relu(self.conv1(x)))))  #  i/p --> conv1--> relu --> conv2 ---> relu -> x\n",
        "        x = self.pool2(F.relu(self.conv4(F.relu(self.conv3(x)))))  # x ---> conv3 ---> relu ---> conv4 --> relu ---> x\n",
        "        x = F.relu(self.conv6(F.relu(self.conv5(x))))   # x ---> conv5 --> relu --> conv6 ---> relu ---> x\n",
        "        x = F.relu(self.conv7(x))  # x --> conv7 --> relu --> x\n",
        "        x = x.view(-1, 10)  # reshaping for 10 classes\n",
        "        return F.log_softmax(x)  #  applying softmax on o/p"
      ],
      "execution_count": 2,
      "outputs": []
    },
    {
      "cell_type": "code",
      "metadata": {
        "id": "xdydjYTZFyi3",
        "colab": {
          "base_uri": "https://localhost:8080/"
        },
        "outputId": "984c611d-fde3-4e6b-86d7-be5e98b0ce06"
      },
      "source": [
        "!pip install torchsummary #   installing torchsummary library\n",
        "from torchsummary import summary # summary provides the visualization of model\n",
        "use_cuda = torch.cuda.is_available() # checking availability of CUDA\n",
        "device = torch.device(\"cuda\" if use_cuda else \"cpu\")  # check gpu availability and set the device\n",
        "model = Net().to(device) # load model to device\n",
        "summary(model, input_size=(1, 28, 28))  # prints the model visualization.  Layer names, output shape and number of parameters"
      ],
      "execution_count": 3,
      "outputs": [
        {
          "output_type": "stream",
          "name": "stdout",
          "text": [
            "Looking in indexes: https://pypi.org/simple, https://us-python.pkg.dev/colab-wheels/public/simple/\n",
            "Requirement already satisfied: torchsummary in /usr/local/lib/python3.8/dist-packages (1.5.1)\n",
            "----------------------------------------------------------------\n",
            "        Layer (type)               Output Shape         Param #\n",
            "================================================================\n",
            "            Conv2d-1           [-1, 32, 28, 28]             320\n",
            "            Conv2d-2           [-1, 64, 28, 28]          18,496\n",
            "         MaxPool2d-3           [-1, 64, 14, 14]               0\n",
            "            Conv2d-4          [-1, 128, 14, 14]          73,856\n",
            "            Conv2d-5          [-1, 256, 14, 14]         295,168\n",
            "         MaxPool2d-6            [-1, 256, 7, 7]               0\n",
            "            Conv2d-7            [-1, 512, 5, 5]       1,180,160\n",
            "            Conv2d-8           [-1, 1024, 3, 3]       4,719,616\n",
            "            Conv2d-9             [-1, 10, 1, 1]          92,170\n",
            "================================================================\n",
            "Total params: 6,379,786\n",
            "Trainable params: 6,379,786\n",
            "Non-trainable params: 0\n",
            "----------------------------------------------------------------\n",
            "Input size (MB): 0.00\n",
            "Forward/backward pass size (MB): 1.51\n",
            "Params size (MB): 24.34\n",
            "Estimated Total Size (MB): 25.85\n",
            "----------------------------------------------------------------\n"
          ]
        },
        {
          "output_type": "stream",
          "name": "stderr",
          "text": [
            "<ipython-input-2-98102ba2721d>:20: UserWarning: Implicit dimension choice for log_softmax has been deprecated. Change the call to include dim=X as an argument.\n",
            "  return F.log_softmax(x)\n"
          ]
        }
      ]
    },
    {
      "cell_type": "code",
      "metadata": {
        "id": "DqTWLaM5GHgH"
      },
      "source": [
        "\n",
        "\n",
        "torch.manual_seed(1) # Sets the seed for generating random numbers.  \n",
        "batch_size = 128 # 128 images processesd at once in gpu\n",
        "\n",
        "kwargs = {'num_workers': 1, 'pin_memory': True} if use_cuda else {}  # setting workers\n",
        "train_loader = torch.utils.data.DataLoader(           #  getting MNIST dataset provided by datasets class dataloader  # train dataloader\n",
        "    datasets.MNIST('../data', train=True, download=True,\n",
        "                    transform=transforms.Compose([ # list of transforms to compose. \n",
        "                        transforms.ToTensor(),   # Convert a PIL Image or numpy.ndarray to tensor.\n",
        "                        transforms.Normalize((0.1307,), (0.3081,))  # Normalizes the images\n",
        "                    ])),\n",
        "    batch_size=batch_size, shuffle=True, **kwargs) # makes batches of images with shuffling \n",
        "test_loader = torch.utils.data.DataLoader(   # train dataloader\n",
        "    datasets.MNIST('../data', train=False, transform=transforms.Compose([\n",
        "                        transforms.ToTensor(),\n",
        "                        transforms.Normalize((0.1307,), (0.3081,))\n",
        "                    ])),\n",
        "    batch_size=batch_size, shuffle=True, **kwargs)\n"
      ],
      "execution_count": null,
      "outputs": []
    },
    {
      "cell_type": "code",
      "metadata": {
        "id": "8fDefDhaFlwH"
      },
      "source": [
        "from tqdm import tqdm  # for printing progress bar\n",
        "def train(model, device, train_loader, optimizer, epoch):\n",
        "    model.train()  # putting model in train mode\n",
        "    pbar = tqdm(train_loader) # initializing progress bar\n",
        "    for batch_idx, (data, target) in enumerate(pbar):   # iterating over batches\n",
        "        data, target = data.to(device), target.to(device)  # moving data to device ( cpu/ gpu )\n",
        "        optimizer.zero_grad() # clearing the gradients of optimizer\n",
        "        output = model(data) # forward pass to model using data\n",
        "        loss = F.nll_loss(output, target) # computing negative log loss on model output and target\n",
        "        loss.backward() # propagate loss bacward\n",
        "        optimizer.step() # updating weights \n",
        "        pbar.set_description(desc= f'loss={loss.item()} batch_id={batch_idx}') # progressbar updated\n",
        "\n",
        "\n",
        "def test(model, device, test_loader):\n",
        "    model.eval()  # putting model in eval mode\n",
        "    test_loss = 0\n",
        "    correct = 0\n",
        "    with torch.no_grad(): # no gradients computed\n",
        "        for data, target in test_loader:\n",
        "            data, target = data.to(device), target.to(device)  # moving data to device ( cpu/ gpu )\n",
        "            output = model(data) # forward pass to model using data\n",
        "            test_loss += F.nll_loss(output, target, reduction='sum').item()  # sum up batch loss\n",
        "            pred = output.argmax(dim=1, keepdim=True)  # get the index of the max log-probability\n",
        "            correct += pred.eq(target.view_as(pred)).sum().item() # adding the correct o/p items\n",
        "\n",
        "    test_loss /= len(test_loader.dataset)\n",
        "\n",
        "    print('\\nTest set: Average loss: {:.4f}, Accuracy: {}/{} ({:.0f}%)\\n'.format(\n",
        "        test_loss, correct, len(test_loader.dataset),\n",
        "        100. * correct / len(test_loader.dataset)))      # accuracy = 100 x  # correct / # total "
      ],
      "execution_count": null,
      "outputs": []
    },
    {
      "cell_type": "code",
      "metadata": {
        "id": "MMWbLWO6FuHb"
      },
      "source": [
        "\n",
        "model = Net().to(device)  # # load model to device\n",
        "optimizer = optim.SGD(model.parameters(), lr=0.01, momentum=0.9) # stochastic gradient descent (optionally with momentum)\n",
        "\n",
        "for epoch in range(1, 2):\n",
        "    train(model, device, train_loader, optimizer, epoch)\n",
        "    test(model, device, test_loader) # call test func"
      ],
      "execution_count": null,
      "outputs": []
    },
    {
      "cell_type": "code",
      "metadata": {
        "id": "So5uk4EkHW6R"
      },
      "source": [],
      "execution_count": null,
      "outputs": []
    }
  ]
}